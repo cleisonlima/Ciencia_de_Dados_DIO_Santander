{
  "nbformat": 4,
  "nbformat_minor": 0,
  "metadata": {
    "colab": {
      "provenance": []
    },
    "kernelspec": {
      "name": "python3",
      "display_name": "Python 3"
    },
    "language_info": {
      "name": "python"
    }
  },
  "cells": [
    {
      "cell_type": "code",
      "execution_count": null,
      "metadata": {
        "id": "ydatuo4qvWvz"
      },
      "outputs": [],
      "source": []
    },
    {
      "cell_type": "markdown",
      "source": [
        "# Demonstração de ETL com Dados Aleatórios usando Pandas\n",
        "\n",
        "Nesta demonstração, vamos realizar o processo de ETL (Extração, Transformação e Carga) utilizando um exemplo simples de dados aleatórios. Vamos criar um conjunto de dados aleatórios, realizar algumas transformações básicas e exibir os resultados.\n",
        "\n",
        "## Etapa 1: Extração e Criação do DataFrame\n",
        "\n",
        "Vamos começar importando a biblioteca pandas e numpy, que serão usadas para criar nosso DataFrame com dados aleatórios.\n",
        "\n"
      ],
      "metadata": {
        "id": "wgw3wkIsvfr0"
      }
    },
    {
      "cell_type": "code",
      "source": [
        "import pandas as pd\n",
        "import numpy as np\n",
        "\n",
        "# Criando um DataFrame com dados aleatórios\n",
        "np.random.seed(42)  # Definindo uma semente para reproduzir os resultados\n",
        "num_rows = 100  # Número de linhas no DataFrame\n",
        "categorias = ['Categoria X', 'Categoria Y', 'Categoria Z']\n",
        "produtos = ['Produto A', 'Produto B', 'Produto C']\n",
        "data = {\n",
        "    'produto': np.random.choice(produtos, num_rows),\n",
        "    'valor': np.random.randint(50, 300, num_rows),\n",
        "    'categoria': np.random.choice(categorias, num_rows)\n",
        "}\n",
        "df = pd.DataFrame(data)"
      ],
      "metadata": {
        "id": "kIIzj0mHv6fl"
      },
      "execution_count": 1,
      "outputs": []
    },
    {
      "cell_type": "markdown",
      "source": [
        "#Etapa 2: Transformação - Cálculo da Média por Categoria\n",
        "Agora que temos nosso DataFrame df com dados aleatórios, vamos calcular a média dos valores por categoria."
      ],
      "metadata": {
        "id": "x6bcccXMv-xp"
      }
    },
    {
      "cell_type": "markdown",
      "source": [],
      "metadata": {
        "id": "Z2u0b65MvcNN"
      }
    },
    {
      "cell_type": "code",
      "source": [
        "# Calculando a média dos valores por categoria\n",
        "media_por_categoria = df.groupby('categoria')['valor'].mean().reset_index()\n"
      ],
      "metadata": {
        "id": "EeYzd_F5wKx_"
      },
      "execution_count": 2,
      "outputs": []
    },
    {
      "cell_type": "markdown",
      "source": [
        "#Etapa 3: Visualização dos Resultados\n",
        "Vamos exibir os resultados das etapas anteriores, mostrando o DataFrame original, a média dos valores por categoria e os dados transformados."
      ],
      "metadata": {
        "id": "qd2bGtFPwRIJ"
      }
    },
    {
      "cell_type": "code",
      "source": [
        "# Exibindo os primeiros registros do DataFrame original\n",
        "print(\"Dados originais:\")\n",
        "print(df.head())\n",
        "\n",
        "# Exibindo a média dos valores por categoria\n",
        "print(\"\\nMédia dos valores por categoria:\")\n",
        "print(media_por_categoria)\n",
        "\n",
        "# Salvando os dados transformados em um novo DataFrame\n",
        "dados_transformados = media_por_categoria.copy()\n",
        "\n",
        "# Exibindo os dados transformados\n",
        "print(\"\\nDados transformados:\")\n",
        "print(dados_transformados)\n"
      ],
      "metadata": {
        "colab": {
          "base_uri": "https://localhost:8080/"
        },
        "id": "JNmkasdPwT17",
        "outputId": "1e424a07-13e5-4776-9d85-8174aedff86d"
      },
      "execution_count": 3,
      "outputs": [
        {
          "output_type": "stream",
          "name": "stdout",
          "text": [
            "Dados originais:\n",
            "     produto  valor    categoria\n",
            "0  Produto C    285  Categoria Z\n",
            "1  Produto A    185  Categoria Y\n",
            "2  Produto C    265  Categoria X\n",
            "3  Produto C    112  Categoria X\n",
            "4  Produto A    188  Categoria X\n",
            "\n",
            "Média dos valores por categoria:\n",
            "     categoria       valor\n",
            "0  Categoria X  188.472222\n",
            "1  Categoria Y  190.200000\n",
            "2  Categoria Z  161.764706\n",
            "\n",
            "Dados transformados:\n",
            "     categoria       valor\n",
            "0  Categoria X  188.472222\n",
            "1  Categoria Y  190.200000\n",
            "2  Categoria Z  161.764706\n"
          ]
        }
      ]
    },
    {
      "cell_type": "markdown",
      "source": [
        "#Conclusão\n",
        "Nesta demonstração, criamos um DataFrame com dados aleatórios usando a biblioteca numpy. Em seguida, realizamos a etapa de transformação calculando a média dos valores por categoria."
      ],
      "metadata": {
        "id": "FhupgQ0YwiHJ"
      }
    }
  ]
}